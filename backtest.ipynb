{
 "cells": [
  {
   "cell_type": "markdown",
   "metadata": {},
   "source": [
    "# Install library"
   ]
  },
  {
   "cell_type": "code",
   "execution_count": 1,
   "metadata": {},
   "outputs": [
    {
     "name": "stdout",
     "output_type": "stream",
     "text": [
      "Requirement already satisfied: panda in /usr/local/python/3.10.13/lib/python3.10/site-packages (0.3.1)\n",
      "Requirement already satisfied: lxml in /usr/local/python/3.10.13/lib/python3.10/site-packages (5.1.0)\n",
      "Requirement already satisfied: bs4 in /usr/local/python/3.10.13/lib/python3.10/site-packages (0.0.2)\n",
      "Requirement already satisfied: httpx in /usr/local/python/3.10.13/lib/python3.10/site-packages (0.26.0)\n",
      "Requirement already satisfied: backtesting in /usr/local/python/3.10.13/lib/python3.10/site-packages (0.3.3)\n",
      "Requirement already satisfied: yfinance in /usr/local/python/3.10.13/lib/python3.10/site-packages (0.2.36)\n",
      "Requirement already satisfied: pandas_ta in /usr/local/python/3.10.13/lib/python3.10/site-packages (0.3.14b0)\n",
      "Requirement already satisfied: scipy in /home/codespace/.local/lib/python3.10/site-packages (1.11.4)\n",
      "Requirement already satisfied: rich in /usr/local/python/3.10.13/lib/python3.10/site-packages (13.7.0)\n",
      "Collecting TA-Lib\n",
      "  Downloading TA-Lib-0.4.28.tar.gz (357 kB)\n",
      "\u001b[2K     \u001b[90m━━━━━━━━━━━━━━━━━━━━━━━━━━━━━━━━━━━━━━━\u001b[0m \u001b[32m357.1/357.1 kB\u001b[0m \u001b[31m7.9 MB/s\u001b[0m eta \u001b[36m0:00:00\u001b[0m00:01\u001b[0m\n",
      "\u001b[?25h  Installing build dependencies ... \u001b[?25ldone\n",
      "\u001b[?25h  Getting requirements to build wheel ... \u001b[?25ldone\n",
      "\u001b[?25h  Installing backend dependencies ... \u001b[?25ldone\n",
      "\u001b[?25h  Preparing metadata (pyproject.toml) ... \u001b[?25ldone\n",
      "\u001b[?25hRequirement already satisfied: setuptools in /usr/local/python/3.10.13/lib/python3.10/site-packages (from panda) (68.2.2)\n",
      "Requirement already satisfied: requests in /home/codespace/.local/lib/python3.10/site-packages (from panda) (2.31.0)\n",
      "Requirement already satisfied: beautifulsoup4 in /home/codespace/.local/lib/python3.10/site-packages (from bs4) (4.12.2)\n",
      "Requirement already satisfied: anyio in /home/codespace/.local/lib/python3.10/site-packages (from httpx) (4.2.0)\n",
      "Requirement already satisfied: certifi in /home/codespace/.local/lib/python3.10/site-packages (from httpx) (2023.11.17)\n",
      "Requirement already satisfied: httpcore==1.* in /usr/local/python/3.10.13/lib/python3.10/site-packages (from httpx) (1.0.2)\n",
      "Requirement already satisfied: idna in /home/codespace/.local/lib/python3.10/site-packages (from httpx) (3.6)\n",
      "Requirement already satisfied: sniffio in /home/codespace/.local/lib/python3.10/site-packages (from httpx) (1.3.0)\n",
      "Requirement already satisfied: h11<0.15,>=0.13 in /usr/local/python/3.10.13/lib/python3.10/site-packages (from httpcore==1.*->httpx) (0.14.0)\n",
      "Requirement already satisfied: numpy>=1.17.0 in /home/codespace/.local/lib/python3.10/site-packages (from backtesting) (1.26.3)\n",
      "Requirement already satisfied: pandas!=0.25.0,>=0.25.0 in /home/codespace/.local/lib/python3.10/site-packages (from backtesting) (2.1.4)\n",
      "Requirement already satisfied: bokeh>=1.4.0 in /usr/local/python/3.10.13/lib/python3.10/site-packages (from backtesting) (3.3.4)\n",
      "Requirement already satisfied: multitasking>=0.0.7 in /usr/local/python/3.10.13/lib/python3.10/site-packages (from yfinance) (0.0.11)\n",
      "Requirement already satisfied: appdirs>=1.4.4 in /usr/local/python/3.10.13/lib/python3.10/site-packages (from yfinance) (1.4.4)\n",
      "Requirement already satisfied: pytz>=2022.5 in /home/codespace/.local/lib/python3.10/site-packages (from yfinance) (2023.3.post1)\n",
      "Requirement already satisfied: frozendict>=2.3.4 in /usr/local/python/3.10.13/lib/python3.10/site-packages (from yfinance) (2.4.0)\n",
      "Requirement already satisfied: peewee>=3.16.2 in /usr/local/python/3.10.13/lib/python3.10/site-packages (from yfinance) (3.17.0)\n",
      "Requirement already satisfied: html5lib>=1.1 in /usr/local/python/3.10.13/lib/python3.10/site-packages (from yfinance) (1.1)\n",
      "Requirement already satisfied: markdown-it-py>=2.2.0 in /usr/local/python/3.10.13/lib/python3.10/site-packages (from rich) (3.0.0)\n",
      "Requirement already satisfied: pygments<3.0.0,>=2.13.0 in /home/codespace/.local/lib/python3.10/site-packages (from rich) (2.17.2)\n",
      "Requirement already satisfied: soupsieve>1.2 in /home/codespace/.local/lib/python3.10/site-packages (from beautifulsoup4->bs4) (2.5)\n",
      "Requirement already satisfied: Jinja2>=2.9 in /home/codespace/.local/lib/python3.10/site-packages (from bokeh>=1.4.0->backtesting) (3.1.2)\n",
      "Requirement already satisfied: contourpy>=1 in /home/codespace/.local/lib/python3.10/site-packages (from bokeh>=1.4.0->backtesting) (1.2.0)\n",
      "Requirement already satisfied: packaging>=16.8 in /home/codespace/.local/lib/python3.10/site-packages (from bokeh>=1.4.0->backtesting) (23.2)\n",
      "Requirement already satisfied: pillow>=7.1.0 in /home/codespace/.local/lib/python3.10/site-packages (from bokeh>=1.4.0->backtesting) (10.2.0)\n",
      "Requirement already satisfied: PyYAML>=3.10 in /home/codespace/.local/lib/python3.10/site-packages (from bokeh>=1.4.0->backtesting) (6.0.1)\n",
      "Requirement already satisfied: tornado>=5.1 in /home/codespace/.local/lib/python3.10/site-packages (from bokeh>=1.4.0->backtesting) (6.4)\n",
      "Requirement already satisfied: xyzservices>=2021.09.1 in /usr/local/python/3.10.13/lib/python3.10/site-packages (from bokeh>=1.4.0->backtesting) (2023.10.1)\n",
      "Requirement already satisfied: six>=1.9 in /home/codespace/.local/lib/python3.10/site-packages (from html5lib>=1.1->yfinance) (1.16.0)\n",
      "Requirement already satisfied: webencodings in /home/codespace/.local/lib/python3.10/site-packages (from html5lib>=1.1->yfinance) (0.5.1)\n",
      "Requirement already satisfied: mdurl~=0.1 in /usr/local/python/3.10.13/lib/python3.10/site-packages (from markdown-it-py>=2.2.0->rich) (0.1.2)\n",
      "Requirement already satisfied: python-dateutil>=2.8.2 in /home/codespace/.local/lib/python3.10/site-packages (from pandas!=0.25.0,>=0.25.0->backtesting) (2.8.2)\n",
      "Requirement already satisfied: tzdata>=2022.1 in /home/codespace/.local/lib/python3.10/site-packages (from pandas!=0.25.0,>=0.25.0->backtesting) (2023.4)\n",
      "Requirement already satisfied: charset-normalizer<4,>=2 in /home/codespace/.local/lib/python3.10/site-packages (from requests->panda) (3.3.2)\n",
      "Requirement already satisfied: urllib3<3,>=1.21.1 in /usr/local/python/3.10.13/lib/python3.10/site-packages (from requests->panda) (2.0.7)\n",
      "Requirement already satisfied: exceptiongroup>=1.0.2 in /home/codespace/.local/lib/python3.10/site-packages (from anyio->httpx) (1.2.0)\n",
      "Requirement already satisfied: typing-extensions>=4.1 in /home/codespace/.local/lib/python3.10/site-packages (from anyio->httpx) (4.9.0)\n",
      "Requirement already satisfied: MarkupSafe>=2.0 in /home/codespace/.local/lib/python3.10/site-packages (from Jinja2>=2.9->bokeh>=1.4.0->backtesting) (2.1.3)\n",
      "Building wheels for collected packages: TA-Lib\n",
      "  Building wheel for TA-Lib (pyproject.toml) ... \u001b[?25lerror\n",
      "  \u001b[1;31merror\u001b[0m: \u001b[1msubprocess-exited-with-error\u001b[0m\n",
      "  \n",
      "  \u001b[31m×\u001b[0m \u001b[32mBuilding wheel for TA-Lib \u001b[0m\u001b[1;32m(\u001b[0m\u001b[32mpyproject.toml\u001b[0m\u001b[1;32m)\u001b[0m did not run successfully.\n",
      "  \u001b[31m│\u001b[0m exit code: \u001b[1;36m1\u001b[0m\n",
      "  \u001b[31m╰─>\u001b[0m \u001b[31m[21 lines of output]\u001b[0m\n",
      "  \u001b[31m   \u001b[0m <string>:77: UserWarning: Cannot find ta-lib library, installation may fail.\n",
      "  \u001b[31m   \u001b[0m running bdist_wheel\n",
      "  \u001b[31m   \u001b[0m running build\n",
      "  \u001b[31m   \u001b[0m running build_py\n",
      "  \u001b[31m   \u001b[0m creating build\n",
      "  \u001b[31m   \u001b[0m creating build/lib.linux-x86_64-cpython-310\n",
      "  \u001b[31m   \u001b[0m creating build/lib.linux-x86_64-cpython-310/talib\n",
      "  \u001b[31m   \u001b[0m copying talib/deprecated.py -> build/lib.linux-x86_64-cpython-310/talib\n",
      "  \u001b[31m   \u001b[0m copying talib/abstract.py -> build/lib.linux-x86_64-cpython-310/talib\n",
      "  \u001b[31m   \u001b[0m copying talib/stream.py -> build/lib.linux-x86_64-cpython-310/talib\n",
      "  \u001b[31m   \u001b[0m copying talib/__init__.py -> build/lib.linux-x86_64-cpython-310/talib\n",
      "  \u001b[31m   \u001b[0m running build_ext\n",
      "  \u001b[31m   \u001b[0m building 'talib._ta_lib' extension\n",
      "  \u001b[31m   \u001b[0m creating build/temp.linux-x86_64-cpython-310\n",
      "  \u001b[31m   \u001b[0m creating build/temp.linux-x86_64-cpython-310/talib\n",
      "  \u001b[31m   \u001b[0m gcc -pthread -Wno-unused-result -Wsign-compare -DNDEBUG -g -fwrapv -O3 -Wall -fPIC -I/usr/include -I/usr/local/include -I/opt/include -I/opt/local/include -I/opt/homebrew/include -I/opt/homebrew/opt/ta-lib/include -I/tmp/pip-build-env-n_yv14gz/normal/lib/python3.10/site-packages/numpy/core/include -I/usr/local/python/3.10.13/include/python3.10 -c talib/_ta_lib.c -o build/temp.linux-x86_64-cpython-310/talib/_ta_lib.o\n",
      "  \u001b[31m   \u001b[0m talib/_ta_lib.c:1082:10: fatal error: ta-lib/ta_defs.h: No such file or directory\n",
      "  \u001b[31m   \u001b[0m  1082 | #include \"ta-lib/ta_defs.h\"\n",
      "  \u001b[31m   \u001b[0m       |          ^~~~~~~~~~~~~~~~~~\n",
      "  \u001b[31m   \u001b[0m compilation terminated.\n",
      "  \u001b[31m   \u001b[0m error: command '/usr/bin/gcc' failed with exit code 1\n",
      "  \u001b[31m   \u001b[0m \u001b[31m[end of output]\u001b[0m\n",
      "  \n",
      "  \u001b[1;35mnote\u001b[0m: This error originates from a subprocess, and is likely not a problem with pip.\n",
      "\u001b[?25h\u001b[31m  ERROR: Failed building wheel for TA-Lib\u001b[0m\u001b[31m\n",
      "\u001b[0mFailed to build TA-Lib\n",
      "\u001b[31mERROR: Could not build wheels for TA-Lib, which is required to install pyproject.toml-based projects\u001b[0m\u001b[31m\n",
      "\u001b[0m"
     ]
    }
   ],
   "source": [
    "!pip install panda lxml bs4 httpx backtesting yfinance pandas_ta scipy rich TA-Lib"
   ]
  },
  {
   "cell_type": "code",
   "execution_count": 2,
   "metadata": {},
   "outputs": [],
   "source": [
    "# import library\n",
    "import pandas as pd\n",
    "import numpy as np\n",
    "from datetime import datetime"
   ]
  },
  {
   "cell_type": "markdown",
   "metadata": {},
   "source": [
    "# Install library"
   ]
  },
  {
   "cell_type": "code",
   "execution_count": 3,
   "metadata": {},
   "outputs": [],
   "source": [
    "# import library\n",
    "import pandas as pd\n",
    "import numpy as np\n",
    "from datetime import datetime"
   ]
  },
  {
   "cell_type": "code",
   "execution_count": 4,
   "metadata": {},
   "outputs": [
    {
     "ename": "ModuleNotFoundError",
     "evalue": "No module named 'talib'",
     "output_type": "error",
     "traceback": [
      "\u001b[0;31m---------------------------------------------------------------------------\u001b[0m",
      "\u001b[0;31mModuleNotFoundError\u001b[0m                       Traceback (most recent call last)",
      "\u001b[1;32m/workspaces/MarkokchainMonteCarlo/backtest.ipynb Cell 6\u001b[0m line \u001b[0;36m1\n\u001b[1;32m      <a href='vscode-notebook-cell://codespaces%2Bideal-giggle-jjq5q4g6g5wcjppg/workspaces/MarkokchainMonteCarlo/backtest.ipynb#W2sdnNjb2RlLXJlbW90ZQ%3D%3D?line=7'>8</a>\u001b[0m \u001b[39mfrom\u001b[39;00m \u001b[39mbacktesting\u001b[39;00m\u001b[39m.\u001b[39;00m\u001b[39mlib\u001b[39;00m \u001b[39mimport\u001b[39;00m crossover\n\u001b[1;32m      <a href='vscode-notebook-cell://codespaces%2Bideal-giggle-jjq5q4g6g5wcjppg/workspaces/MarkokchainMonteCarlo/backtest.ipynb#W2sdnNjb2RlLXJlbW90ZQ%3D%3D?line=8'>9</a>\u001b[0m \u001b[39mimport\u001b[39;00m \u001b[39mpandas_ta\u001b[39;00m \u001b[39mas\u001b[39;00m \u001b[39mtaPanda\u001b[39;00m\n\u001b[0;32m---> <a href='vscode-notebook-cell://codespaces%2Bideal-giggle-jjq5q4g6g5wcjppg/workspaces/MarkokchainMonteCarlo/backtest.ipynb#W2sdnNjb2RlLXJlbW90ZQ%3D%3D?line=9'>10</a>\u001b[0m \u001b[39mimport\u001b[39;00m \u001b[39mtalib\u001b[39;00m\n\u001b[1;32m     <a href='vscode-notebook-cell://codespaces%2Bideal-giggle-jjq5q4g6g5wcjppg/workspaces/MarkokchainMonteCarlo/backtest.ipynb#W2sdnNjb2RlLXJlbW90ZQ%3D%3D?line=10'>11</a>\u001b[0m \u001b[39mimport\u001b[39;00m \u001b[39mpandas\u001b[39;00m \u001b[39mas\u001b[39;00m \u001b[39mpd\u001b[39;00m\n\u001b[1;32m     <a href='vscode-notebook-cell://codespaces%2Bideal-giggle-jjq5q4g6g5wcjppg/workspaces/MarkokchainMonteCarlo/backtest.ipynb#W2sdnNjb2RlLXJlbW90ZQ%3D%3D?line=11'>12</a>\u001b[0m \u001b[39mimport\u001b[39;00m \u001b[39mmatplotlib\u001b[39;00m\u001b[39m.\u001b[39;00m\u001b[39mpyplot\u001b[39;00m \u001b[39mas\u001b[39;00m \u001b[39mplt\u001b[39;00m\n",
      "\u001b[0;31mModuleNotFoundError\u001b[0m: No module named 'talib'"
     ]
    }
   ],
   "source": [
    "import concurrent.futures\n",
    "from datetime import datetime\n",
    "import glob\n",
    "import warnings\n",
    "from rich.progress import track\n",
    "warnings.filterwarnings(\"ignore\")\n",
    "from backtesting import Backtest, Strategy\n",
    "from backtesting.lib import crossover\n",
    "import pandas_ta as taPanda\n",
    "import talib\n",
    "import pandas as pd\n",
    "import matplotlib.pyplot as plt\n",
    "from scipy.stats import norm\n",
    "from collections import Counter"
   ]
  },
  {
   "cell_type": "markdown",
   "metadata": {},
   "source": [
    "# Utilities Function"
   ]
  },
  {
   "cell_type": "code",
   "execution_count": null,
   "metadata": {},
   "outputs": [],
   "source": [
    "def make_api_request(api_endpoint, params):\n",
    "    with httpx.Client() as client:\n",
    "        # Make the GET request to the API\n",
    "        response = client.get(api_endpoint, params=params)\n",
    "        if response.status_code == 200:\n",
    "            return response.json()\n",
    "        print(\"Error: Failed to retrieve data from API\")\n",
    "        return None"
   ]
  },
  {
   "cell_type": "code",
   "execution_count": null,
   "metadata": {},
   "outputs": [],
   "source": [
    "BASE_URL_FMP = \"https://financialmodelingprep.com/api/v3\"\n",
    "BASE_URL_BINANCE = \"https://fapi.binance.com/fapi/v1/\"\n",
    "\n",
    "FMP_API_KEY = \"\"\n",
    "BINANCE_API_KEY = \"\"\n",
    "\n",
    "\n",
    "def get_historical_price_full_crypto(symbol):\n",
    "    api_endpoint = f\"{BASE_URL_FMP}/historical-price-full/crypto/{symbol}\"\n",
    "    params = {\"apikey\": FMP_API_KEY}\n",
    "    return make_api_request(api_endpoint, params)\n",
    "\n",
    "\n",
    "def get_historical_price_full_stock(symbol):\n",
    "    api_endpoint = f\"{BASE_URL_FMP}/historical-price-full/{symbol}\"\n",
    "    params = {\"apikey\": FMP_API_KEY}\n",
    "\n",
    "    return make_api_request(api_endpoint, params)\n",
    "\n",
    "def get_SP500():\n",
    "    api_endpoint = \"https://en.wikipedia.org/wiki/List_of_S%26P_500_companies\"\n",
    "    data = pd.read_html(api_endpoint)\n",
    "    return list(data[0]['Symbol'])\n",
    "\n",
    "def get_all_crypto():\n",
    "    \"\"\"\n",
    "    All possible crypto symbols\n",
    "    \"\"\"\n",
    "    return [\n",
    "        \"BTCUSD\",\n",
    "        \"ETHUSD\",\n",
    "        \"LTCUSD\",\n",
    "        \"BCHUSD\",\n",
    "        \"XRPUSD\",\n",
    "        \"EOSUSD\",\n",
    "        \"XLMUSD\",\n",
    "        \"TRXUSD\",\n",
    "        \"ETCUSD\",\n",
    "        \"DASHUSD\",\n",
    "        \"ZECUSD\",\n",
    "        \"XTZUSD\",\n",
    "        \"XMRUSD\",\n",
    "        \"ADAUSD\",\n",
    "        \"NEOUSD\",\n",
    "        \"XEMUSD\",\n",
    "        \"VETUSD\",\n",
    "        \"DOGEUSD\",\n",
    "        \"OMGUSD\",\n",
    "        \"ZRXUSD\",\n",
    "        \"BATUSD\"\n",
    "        \"USDTUSD\",\n",
    "        \"LINKUSD\",\n",
    "        \"BTTUSD\",\n",
    "        \"BNBUSD\",\n",
    "        \"ONTUSD\",\n",
    "        \"QTUMUSD\",\n",
    "        \"ALGOUSD\",\n",
    "        \"ZILUSD\",\n",
    "        \"ICXUSD\",\n",
    "        \"KNCUSD\",\n",
    "        \"ZENUSD\",\n",
    "        \"THETAUSD\",\n",
    "        \"IOSTUSD\",\n",
    "        \"ATOMUSD\",\n",
    "        \"MKRUSD\",\n",
    "        \"COMPUSD\",\n",
    "        \"YFIUSD\",\n",
    "        \"SUSHIUSD\",\n",
    "        \"SNXUSD\",\n",
    "        \"UMAUSD\",\n",
    "        \"BALUSD\",\n",
    "        \"AAVEUSD\",\n",
    "        \"UNIUSD\",\n",
    "        \"RENBTCUSD\",\n",
    "        \"RENUSD\",\n",
    "        \"CRVUSD\",\n",
    "        \"SXPUSD\",\n",
    "        \"KSMUSD\",\n",
    "        \"OXTUSD\",\n",
    "        \"DGBUSD\",\n",
    "        \"LRCUSD\",\n",
    "        \"WAVESUSD\",\n",
    "        \"NMRUSD\",\n",
    "        \"STORJUSD\",\n",
    "        \"KAVAUSD\",\n",
    "        \"RLCUSD\",\n",
    "        \"BANDUSD\",\n",
    "        \"SCUSD\",\n",
    "        \"ENJUSD\",\n",
    "    ]\n",
    "\n",
    "def get_financial_statements_lists():\n",
    "    api_endpoint = f\"{BASE_URL_FMP}/financial-statement-symbol-lists\"\n",
    "    params = {\"apikey\": FMP_API_KEY}\n",
    "    return make_api_request(api_endpoint, params)"
   ]
  },
  {
   "cell_type": "markdown",
   "metadata": {},
   "source": [
    "# Split the Data into Train and Test"
   ]
  },
  {
   "cell_type": "code",
   "execution_count": null,
   "metadata": {},
   "outputs": [],
   "source": [
    "stock_symbol = \"AAPL\"\n",
    "stock_prices = get_historical_stock_prices(stock_symbol)\n",
    "\n",
    "january_2023_index = stock_prices.index(\"2023-01-01\") if \"2023-01-01\" in stock_prices else None\n",
    "\n",
    "if january_2023_index is not None:\n",
    "    prices_before_january_2023 = stock_prices[:january_2023_index]\n",
    "    prices_after_january_2023 = stock_prices[january_2023_index:]\n",
    "else:\n",
    "    print(\"January 2023 data not found in the historical prices.\")"
   ]
  },
  {
   "cell_type": "markdown",
   "metadata": {},
   "source": [
    "# Monte Carlo Simulation"
   ]
  },
  {
   "cell_type": "code",
   "execution_count": 12,
   "metadata": {},
   "outputs": [],
   "source": [
    "def monte_carlo_simulation(data, days, iterations):\n",
    "    log_returns = np.log(data[1:] / data[:-1])\n",
    "    mean = np.mean(log_returns)\n",
    "    variance = np.var(log_returns)\n",
    "    drift = mean - (0.5 * variance)\n",
    "    daily_volatility = np.std(log_returns)\n",
    "\n",
    "    future_prices = np.zeros((days, iterations))\n",
    "    current_price = data[-1]\n",
    "    for t in range(days):\n",
    "        shocks = drift + daily_volatility * norm.ppf(np.random.rand(iterations))\n",
    "        future_prices[t] = current_price * np.exp(shocks)\n",
    "        current_price = future_prices[t]\n",
    "    return future_prices"
   ]
  },
  {
   "cell_type": "markdown",
   "metadata": {},
   "source": [
    "# Markov Chain Simulation Transition Matrix"
   ]
  },
  {
   "cell_type": "code",
   "execution_count": null,
   "metadata": {},
   "outputs": [],
   "source": [
    "# Markov Chain Simulation (Simplified)\n",
    "transition_matrix = np.array([[0.7, 0.2, 0.1],  # Transition probabilities for states\n",
    "                              [0.1, 0.6, 0.3],\n",
    "                              [0.2, 0.3, 0.5]])"
   ]
  },
  {
   "cell_type": "markdown",
   "metadata": {},
   "source": [
    "# Markov Chain Simulation"
   ]
  },
  {
   "cell_type": "code",
   "execution_count": null,
   "metadata": {},
   "outputs": [],
   "source": [
    "def markov_chain_simulation(transition_matrix, start_state, days):\n",
    "    states = np.arange(len(transition_matrix))\n",
    "    current_state = start_state\n",
    "    state_sequence = [current_state]\n",
    "\n",
    "    for _ in range(days):\n",
    "        current_state = np.random.choice(states, p=transition_matrix[current_state])\n",
    "        state_sequence.append(current_state)\n",
    "\n",
    "    return state_sequence"
   ]
  },
  {
   "cell_type": "markdown",
   "metadata": {},
   "source": [
    "#  MCMCStrategy"
   ]
  },
  {
   "cell_type": "code",
   "execution_count": null,
   "metadata": {},
   "outputs": [],
   "source": [
    "class MCMCStrategy(Strategy):\n",
    "    def init(self):\n",
    "        self.is_long = False\n",
    "        simulation_days = len(self.data)\n",
    "        mc_iterations = 100\n",
    "        start_state = 0  # Initial state (can be changed)\n",
    "        self.mc_prices = monte_carlo_simulation(self.data.Close, len(self.data), mc_iterations)\n",
    "        self.markov_states = markov_chain_simulation(transition_matrix, start_state, len(self.data))\n",
    "\n",
    "    def next(self):\n",
    "        # MCMC Strategy\n",
    "        if self.is_long:\n",
    "            if self.data.Close[-1] < self.mc_prices[-1, self.i]:\n",
    "                self.position.close()\n",
    "                self.is_long = False\n",
    "        else:\n",
    "            if self.data.Close[-1] > self.mc_prices[-1, self.i]:\n",
    "                self.buy()\n",
    "                self.is_long = True"
   ]
  },
  {
   "cell_type": "markdown",
   "metadata": {},
   "source": [
    "# Create two separate Backtest instances for before and after January 2023"
   ]
  },
  {
   "cell_type": "code",
   "execution_count": null,
   "metadata": {},
   "outputs": [],
   "source": [
    "\n",
    "bt_mcmc_before_january = Backtest(prices_before_january_2023, MCMCStrategy,\n",
    "                             cash=10000, commission=.002,\n",
    "                             exclusive_orders=True)\n",
    "\n",
    "bt_mcmc_after_january = Backtest(prices_after_january_2023, MCMCStrategy,\n",
    "                            cash=10000, commission=.002,\n",
    "                            exclusive_orders=True)"
   ]
  },
  {
   "cell_type": "code",
   "execution_count": null,
   "metadata": {},
   "outputs": [],
   "source": [
    "output_mcmc_before_january = bt_before_january.run()"
   ]
  },
  {
   "cell_type": "code",
   "execution_count": null,
   "metadata": {},
   "outputs": [],
   "source": [
    "output_mcmc_after_january = bt_after_january.run()"
   ]
  },
  {
   "cell_type": "markdown",
   "metadata": {},
   "source": [
    "# Run BUYHOLD backtests"
   ]
  },
  {
   "cell_type": "code",
   "execution_count": null,
   "metadata": {},
   "outputs": [],
   "source": [
    "class BuyAndHoldStrategy(Strategy):\n",
    "    def init(self):\n",
    "        self.is_long = False\n",
    "\n",
    "    def next(self):\n",
    "        # Buy and Hold Strategy\n",
    "        if not self.is_long:\n",
    "            self.buy()\n",
    "            self.is_long = True"
   ]
  },
  {
   "cell_type": "code",
   "execution_count": null,
   "metadata": {},
   "outputs": [],
   "source": [
    "\n",
    "bt_before_january = Backtest(prices_before_january_2023, BuyAndHoldStrategy, cash=10000, commission=.002, exclusive_orders=True)\n",
    "bt_after_january = Backtest(prices_after_january_2023, BuyAndHoldStrategy, cash=10000, commission=.002, exclusive_orders=True)"
   ]
  },
  {
   "cell_type": "code",
   "execution_count": null,
   "metadata": {},
   "outputs": [],
   "source": [
    "before_after_january = bt_after_january.run()"
   ]
  },
  {
   "cell_type": "code",
   "execution_count": null,
   "metadata": {},
   "outputs": [],
   "source": [
    "output_after_january = bt_after_january.run()"
   ]
  },
  {
   "cell_type": "markdown",
   "metadata": {},
   "source": [
    "## Access performance metrics for BUYHOLD backtests"
   ]
  },
  {
   "cell_type": "code",
   "execution_count": null,
   "metadata": {},
   "outputs": [],
   "source": [
    "\n",
    "print(\"Performance Metrics Before January 2023:\")\n",
    "print(output_before_january)\n",
    "print(\"\\nPerformance Metrics After January 2023:\")\n",
    "print(output_after_january)"
   ]
  },
  {
   "cell_type": "code",
   "execution_count": null,
   "metadata": {},
   "outputs": [],
   "source": [
    "# Define a function to run a backtest and plot the results\n",
    "def run_backtest_and_plot(prices, strategy_class, title):\n",
    "    bt = Backtest(prices, strategy_class, cash=10000, commission=.002, exclusive_orders=True)\n",
    "    output = bt.run()\n",
    "    bt.plot(title=title)\n",
    "    return output"
   ]
  },
  {
   "cell_type": "code",
   "execution_count": null,
   "metadata": {},
   "outputs": [],
   "source": [
    "def buy_and_hold_backtest(prices):\n",
    "    simulation_days = len(prices)\n",
    "    mc_iterations = 100\n",
    "    start_state = 0  # Initial state (can be changed)\n",
    "    mc_prices = monte_carlo_simulation(prices, simulation_days, mc_iterations)\n",
    "    markov_states = markov_chain_simulation(transition_matrix, start_state, simulation_days)\n",
    "\n",
    "    # Simple \"Buy and Hold\" Strategy Backtest\n",
    "    final_prices = mc_prices[-1, :]  # Prices at the end of the simulation\n",
    "    initial_price = prices[-1]  # Initial price\n",
    "    portfolio_values = final_prices - initial_price  # Portfolio values\n",
    "\n",
    "    # Calculate strategy returns\n",
    "    strategy_returns = portfolio_values / initial_price\n",
    "    return strategy_returns\n",
    "\n",
    "def run_backtest_and_plot(prices, strategy_class, title):\n",
    "    bt = Backtest(prices, strategy_class, cash=10000, commission=.002, exclusive_orders=True)\n",
    "    output = bt.run()\n",
    "    bt.plot(title=title)\n",
    "    return output\n",
    "\n",
    "# Perform \"Buy and Hold\" backtest for prices before January 2023\n",
    "strategy_returns_before_january = buy_and_hold_backtest(prices_before_january_2023)\n",
    "\n",
    "# Perform \"Buy and Hold\" backtest for prices after January 2023\n",
    "strategy_returns_after_january = buy_and_hold_backtest(prices_after_january_2023)\n",
    "\n",
    "# Visualize the results\n",
    "plt.figure(figsize=(10, 6))\n",
    "plt.plot(strategy_returns_before_january, label=\"Before January 2023\")\n",
    "plt.plot(strategy_returns_after_january, label=\"After January 2023\")\n",
    "plt.title('Buy and Hold Strategy Returns')\n",
    "plt.xlabel('Simulation Iterations')\n",
    "plt.ylabel('Returns')\n",
    "plt.legend()\n",
    "plt.show()\n",
    "\n",
    "# Run and plot the MCMC-based backtests\n",
    "output_before_january_mcmc = run_backtest_and_plot(prices_before_january_2023, MCMCStrategy, \"MCMC Strategy Before January 2023\")\n",
    "output_after_january_mcmc = run_backtest_and_plot(prices_after_january_2023, MCMCStrategy, \"MCMC Strategy After January 2023\")\n",
    "\n",
    "# Access performance metrics for both MCMC-based backtests\n",
    "print(\"Performance Metrics for MCMC Strategy Before January 2023:\")\n",
    "print(output_before_january_mcmc)\n",
    "print(\"\\nPerformance Metrics for MCMC Strategy After January 2023:\")\n",
    "print(output_after_january_mcmc)"
   ]
  }
 ],
 "metadata": {
  "kernelspec": {
   "display_name": "Python 3",
   "language": "python",
   "name": "python3"
  },
  "language_info": {
   "codemirror_mode": {
    "name": "ipython",
    "version": 3
   },
   "file_extension": ".py",
   "mimetype": "text/x-python",
   "name": "python",
   "nbconvert_exporter": "python",
   "pygments_lexer": "ipython3",
   "version": "3.10.13"
  }
 },
 "nbformat": 4,
 "nbformat_minor": 2
}
